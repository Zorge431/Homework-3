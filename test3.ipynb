{
  "nbformat": 4,
  "nbformat_minor": 0,
  "metadata": {
    "colab": {
      "provenance": [],
      "authorship_tag": "ABX9TyMXr2hj7SP8POKQzzI2Wwz4",
      "include_colab_link": true
    },
    "kernelspec": {
      "name": "python3",
      "display_name": "Python 3"
    },
    "language_info": {
      "name": "python"
    }
  },
  "cells": [
    {
      "cell_type": "markdown",
      "metadata": {
        "id": "view-in-github",
        "colab_type": "text"
      },
      "source": [
        "<a href=\"https://colab.research.google.com/github/Zorge431/Homework-3/blob/main/test3.ipynb\" target=\"_parent\"><img src=\"https://colab.research.google.com/assets/colab-badge.svg\" alt=\"Open In Colab\"/></a>"
      ]
    },
    {
      "cell_type": "markdown",
      "source": [
        "## Задание 1"
      ],
      "metadata": {
        "id": "gA2MBG-Xw92y"
      }
    },
    {
      "cell_type": "code",
      "execution_count": null,
      "metadata": {
        "id": "3odyMis7D9-n"
      },
      "outputs": [],
      "source": [
        "ids = {'user1': [213, 213, 213, 15, 213],\n",
        "       'user2': [54, 54, 119, 119, 119],\n",
        "       'user3': [213, 98, 98, 35]}\n",
        "\n",
        "# coordinate_set = set()\n",
        "#Перебираем элементы ids и в каждой итерации добавляем эти элементы к множеству\n",
        "# [coordinate_set.update(coordinate) for coordinate in ids.values()]\n",
        "# print(f'Результат: {coordinate_set}')\n",
        "print(set(sum(ids.values(), [])))\n",
        "\n"
      ]
    },
    {
      "cell_type": "markdown",
      "source": [
        "## Задание 2"
      ],
      "metadata": {
        "id": "7fGv8mHi3WuL"
      }
    },
    {
      "cell_type": "code",
      "source": [
        "from re import split\n",
        "queries = [\n",
        "    'смотреть сериалы онлайн',\n",
        "    'новости спорта',\n",
        "    'афиша кино',\n",
        "    'курс доллара',\n",
        "    'сериалы этим летом',\n",
        "    'курс по питону',\n",
        "    'сериалы про спорт',\n",
        "]\n",
        "\n",
        "# quantity = []\n",
        "# count = 0\n",
        "\n",
        "#Не уверен удобно ли читать это с List comprehension, но просто попрактиковался\n",
        "#В каждой итерации добавляем списку quantity число, равное длине строки без пробелов\n",
        "# [quantity.append(len(lines.split(' '))) for lines in queries]\n",
        "\n",
        "#Пока не дойдет до самой большой длины строки while выводит проценты\n",
        "# while count <= max(quantity):\n",
        "#   if quantity.count(count) != 0:\n",
        "#     print(f'Поисковых запросов, содержащих {count} cлов(а): {round((quantity.count(count) / len(quantity) * 100), 2)}%')\n",
        "#   count += 1\n",
        "\n",
        "for i in {len(i.split()) for i in queries}:\n",
        "    print(f'Поисковых запросов, содержащих {i} слов(а): {len([s for s in queries if len(s.split()) == i ]) / len(queries) :.2%}')"
      ],
      "metadata": {
        "id": "Iem6TbH73ZaO"
      },
      "execution_count": null,
      "outputs": []
    },
    {
      "cell_type": "markdown",
      "source": [
        "## Задание 3"
      ],
      "metadata": {
        "id": "j4AmIHxA3Zp_"
      }
    },
    {
      "cell_type": "code",
      "source": [
        "results = {\n",
        "    'vk': {'revenue': 103, 'cost': 98},\n",
        "    'yandex': {'revenue': 179, 'cost': 153},\n",
        "    'facebook': {'revenue': 103, 'cost': 110},\n",
        "    'adwords': {'revenue': 35, 'cost': 34},\n",
        "    'twitter': {'revenue': 11, 'cost': 24},\n",
        "}\n",
        "\n",
        "#В каждой итерации, для каждой компании, ищем по ключам значения info и записываем их дополнительным подсловарем в виде roi\n",
        "for company, info in results.items():\n",
        "  info['ROI'] = round(((info['revenue'] / info['cost']) - 1) * 100, 2)\n",
        "print(results)"
      ],
      "metadata": {
        "id": "mavNs7683b-t"
      },
      "execution_count": null,
      "outputs": []
    },
    {
      "cell_type": "markdown",
      "source": [
        "## Задание 4"
      ],
      "metadata": {
        "id": "aUtpsvVU8kxT"
      }
    },
    {
      "cell_type": "code",
      "source": [
        "stats = {'facebook': 55, 'yandex': 115, 'vk': 120, 'google': 99, 'email': 42, 'ok': 98}\n",
        "\n",
        "best_sell = 0\n",
        "for sells in stats.values():\n",
        "  #Для каждого значения в словаре происходит его сравнение с предудыщим\n",
        "  if sells > best_sell:\n",
        "    #Еси новое значение больше, то best_sell перезаписывается\n",
        "    best_sell = sells\n",
        "#top key равен ключу, значение которого совпадет с best_sells\n",
        "top_key = [key for key, values in stats.items() if values == best_sell ]\n",
        "\n",
        "print(f'Результат: Максимальный объем продаж на рекламном канале: {top_key}')"
      ],
      "metadata": {
        "id": "91cdNhm38nWH"
      },
      "execution_count": null,
      "outputs": []
    },
    {
      "cell_type": "markdown",
      "source": [
        "## Задание 5"
      ],
      "metadata": {
        "id": "orOXsaxeCgUb"
      }
    },
    {
      "cell_type": "code",
      "source": [
        "my_list = ['2018-01-01', 'yandex', 'cpc', 100]\n",
        "\n",
        "#Записывает сразу послеедне значение\n",
        "salarie_list = my_list[-1]\n",
        "#Идем по списку реверсивно, со срезом до последнего элемента, где каждый раз salarie_list перезаписывается\n",
        "#новое значение становится ключом, а старое элементом словаря\n",
        "for value in reversed(my_list[:-1]):\n",
        "  salarie_list = {value: salarie_list}\n",
        "print(salarie_list)"
      ],
      "metadata": {
        "id": "8XBOg0knCkID"
      },
      "execution_count": null,
      "outputs": []
    },
    {
      "cell_type": "markdown",
      "source": [
        "## Задание 6"
      ],
      "metadata": {
        "id": "ixJxGaIuI5QA"
      }
    },
    {
      "cell_type": "code",
      "source": [
        "cook_book = { #У вас ingrEdients везде с ошибкой в задании\n",
        "  'салат': [\n",
        "     {'ingridient_name': 'сыр', 'quantity': 50, 'measure': 'гр'},\n",
        "     {'ingridient_name': 'томаты', 'quantity': 2, 'measure': 'шт'},\n",
        "     {'ingridient_name': 'огурцы', 'quantity': 20, 'measure': 'гр'},\n",
        "     {'ingridient_name': 'маслины', 'quantity': 10, 'measure': 'гр'},\n",
        "     {'ingridient_name': 'оливковое масло', 'quantity': 20, 'measure': 'мл'},\n",
        "     {'ingridient_name': 'салат', 'quantity': 10, 'measure': 'гр'},\n",
        "     {'ingridient_name': 'перец', 'quantity': 20, 'measure': 'гр'}\n",
        "    ],\n",
        "  'пицца': [\n",
        "     {'ingridient_name': 'сыр', 'quantity': 20, 'measure': 'гр'},\n",
        "     {'ingridient_name': 'колбаса', 'quantity': 30, 'measure': 'гр'},\n",
        "     {'ingridient_name': 'бекон', 'quantity': 30, 'measure': 'гр'},\n",
        "     {'ingridient_name': 'оливки', 'quantity': 10, 'measure': 'гр'},\n",
        "     {'ingridient_name': 'томаты', 'quantity': 20, 'measure': 'гр'},\n",
        "     {'ingridient_name': 'тесто', 'quantity': 100, 'measure': 'гр'},\n",
        "    ],\n",
        "  'лимонад': [\n",
        "     {'ingridient_name': 'лимон', 'quantity': 1, 'measure': 'шт'},\n",
        "     {'ingridient_name': 'вода', 'quantity': 200, 'measure': 'мл'},\n",
        "     {'ingridient_name': 'сахар', 'quantity': 10, 'measure': 'гр'},\n",
        "     {'ingridient_name': 'лайм', 'quantity': 20, 'measure': 'гр'},\n",
        "    ]\n",
        "}\n",
        "\n",
        "persons = int(input('Введите кол-во персон '))\n",
        "print('')\n",
        "for meal, ingredients in cook_book.items():\n",
        "  print(meal.capitalize())\n",
        "  for value in ingredients:\n",
        "    print(f\"{value['ingridient_name'].capitalize()}: {value['quantity']*persons} {value['measure']}\")\n",
        "  print('')\n"
      ],
      "metadata": {
        "id": "kiVV3pR7I82k"
      },
      "execution_count": null,
      "outputs": []
    }
  ]
}